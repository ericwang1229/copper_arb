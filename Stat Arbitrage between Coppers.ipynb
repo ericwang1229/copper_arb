{
 "metadata": {
  "name": "",
  "signature": "sha256:0c8915b4576e8651b967b3d37d44bb599718f5e85ac605e9a69e68cc288ea4b3"
 },
 "nbformat": 3,
 "nbformat_minor": 0,
 "worksheets": [
  {
   "cells": [
    {
     "cell_type": "markdown",
     "metadata": {},
     "source": [
      "Import Reuters tick data"
     ]
    },
    {
     "cell_type": "code",
     "collapsed": false,
     "input": [
      "import pandas as pd\n",
      "import numpy as np\n",
      "hg_data = pd.read_csv(r\"C:\\Copper\\HG.csv\")\n",
      "scf_data = pd.read_csv(r\"C:\\Copper\\SCF.csv\")"
     ],
     "language": "python",
     "metadata": {},
     "outputs": [
      {
       "output_type": "stream",
       "stream": "stderr",
       "text": [
        "C:\\Python279\\lib\\site-packages\\pandas\\io\\parsers.py:1159: DtypeWarning: Columns (11) have mixed types. Specify dtype option on import or set low_memory=False.\n",
        "  data = self._reader.read(nrows)\n"
       ]
      }
     ],
     "prompt_number": 1
    },
    {
     "cell_type": "code",
     "collapsed": false,
     "input": [
      "hg_data.head()"
     ],
     "language": "python",
     "metadata": {},
     "outputs": [
      {
       "html": [
        "<div style=\"max-height:1000px;max-width:1500px;overflow:auto;\">\n",
        "<table border=\"1\" class=\"dataframe\">\n",
        "  <thead>\n",
        "    <tr style=\"text-align: right;\">\n",
        "      <th></th>\n",
        "      <th>#RIC</th>\n",
        "      <th>Date[G]</th>\n",
        "      <th>Time[G]</th>\n",
        "      <th>GMT Offset</th>\n",
        "      <th>Type</th>\n",
        "      <th>Price</th>\n",
        "      <th>Volume</th>\n",
        "      <th>Bid Price</th>\n",
        "      <th>Bid Size</th>\n",
        "      <th>Ask Price</th>\n",
        "      <th>Ask Size</th>\n",
        "      <th>Qualifiers</th>\n",
        "    </tr>\n",
        "  </thead>\n",
        "  <tbody>\n",
        "    <tr>\n",
        "      <th>0</th>\n",
        "      <td> HGcv1</td>\n",
        "      <td> 05-FEB-2014</td>\n",
        "      <td> 00:00:16.426</td>\n",
        "      <td>-5</td>\n",
        "      <td> Trade</td>\n",
        "      <td> 3.194</td>\n",
        "      <td>  1</td>\n",
        "      <td>    NaN</td>\n",
        "      <td>NaN</td>\n",
        "      <td>NaN</td>\n",
        "      <td>NaN</td>\n",
        "      <td> NaN</td>\n",
        "    </tr>\n",
        "    <tr>\n",
        "      <th>1</th>\n",
        "      <td> HGcv1</td>\n",
        "      <td> 05-FEB-2014</td>\n",
        "      <td> 00:00:16.426</td>\n",
        "      <td>-5</td>\n",
        "      <td> Quote</td>\n",
        "      <td>   NaN</td>\n",
        "      <td>NaN</td>\n",
        "      <td> 3.1940</td>\n",
        "      <td>  1</td>\n",
        "      <td>NaN</td>\n",
        "      <td>NaN</td>\n",
        "      <td> NaN</td>\n",
        "    </tr>\n",
        "    <tr>\n",
        "      <th>2</th>\n",
        "      <td> HGcv1</td>\n",
        "      <td> 05-FEB-2014</td>\n",
        "      <td> 00:00:30.853</td>\n",
        "      <td>-5</td>\n",
        "      <td> Trade</td>\n",
        "      <td> 3.194</td>\n",
        "      <td>  1</td>\n",
        "      <td>    NaN</td>\n",
        "      <td>NaN</td>\n",
        "      <td>NaN</td>\n",
        "      <td>NaN</td>\n",
        "      <td> NaN</td>\n",
        "    </tr>\n",
        "    <tr>\n",
        "      <th>3</th>\n",
        "      <td> HGcv1</td>\n",
        "      <td> 05-FEB-2014</td>\n",
        "      <td> 00:00:30.853</td>\n",
        "      <td>-5</td>\n",
        "      <td> Quote</td>\n",
        "      <td>   NaN</td>\n",
        "      <td>NaN</td>\n",
        "      <td> 3.1935</td>\n",
        "      <td>  6</td>\n",
        "      <td>NaN</td>\n",
        "      <td>NaN</td>\n",
        "      <td> NaN</td>\n",
        "    </tr>\n",
        "    <tr>\n",
        "      <th>4</th>\n",
        "      <td> HGcv1</td>\n",
        "      <td> 05-FEB-2014</td>\n",
        "      <td> 00:00:30.853</td>\n",
        "      <td>-5</td>\n",
        "      <td> Quote</td>\n",
        "      <td>   NaN</td>\n",
        "      <td>NaN</td>\n",
        "      <td> 3.1935</td>\n",
        "      <td>  5</td>\n",
        "      <td>NaN</td>\n",
        "      <td>NaN</td>\n",
        "      <td> NaN</td>\n",
        "    </tr>\n",
        "  </tbody>\n",
        "</table>\n",
        "</div>"
       ],
       "metadata": {},
       "output_type": "pyout",
       "prompt_number": 2,
       "text": [
        "    #RIC      Date[G]       Time[G]  GMT Offset   Type  Price  Volume  \\\n",
        "0  HGcv1  05-FEB-2014  00:00:16.426          -5  Trade  3.194       1   \n",
        "1  HGcv1  05-FEB-2014  00:00:16.426          -5  Quote    NaN     NaN   \n",
        "2  HGcv1  05-FEB-2014  00:00:30.853          -5  Trade  3.194       1   \n",
        "3  HGcv1  05-FEB-2014  00:00:30.853          -5  Quote    NaN     NaN   \n",
        "4  HGcv1  05-FEB-2014  00:00:30.853          -5  Quote    NaN     NaN   \n",
        "\n",
        "   Bid Price  Bid Size  Ask Price  Ask Size Qualifiers  \n",
        "0        NaN       NaN        NaN       NaN        NaN  \n",
        "1     3.1940         1        NaN       NaN        NaN  \n",
        "2        NaN       NaN        NaN       NaN        NaN  \n",
        "3     3.1935         6        NaN       NaN        NaN  \n",
        "4     3.1935         5        NaN       NaN        NaN  "
       ]
      }
     ],
     "prompt_number": 2
    },
    {
     "cell_type": "code",
     "collapsed": false,
     "input": [
      "scf_data.head()"
     ],
     "language": "python",
     "metadata": {},
     "outputs": [
      {
       "html": [
        "<div style=\"max-height:1000px;max-width:1500px;overflow:auto;\">\n",
        "<table border=\"1\" class=\"dataframe\">\n",
        "  <thead>\n",
        "    <tr style=\"text-align: right;\">\n",
        "      <th></th>\n",
        "      <th>#RIC</th>\n",
        "      <th>Date[G]</th>\n",
        "      <th>Time[G]</th>\n",
        "      <th>GMT Offset</th>\n",
        "      <th>Type</th>\n",
        "      <th>Price</th>\n",
        "      <th>Volume</th>\n",
        "      <th>Bid Price</th>\n",
        "      <th>Bid Size</th>\n",
        "      <th>Ask Price</th>\n",
        "      <th>Ask Size</th>\n",
        "      <th>Qualifiers</th>\n",
        "    </tr>\n",
        "  </thead>\n",
        "  <tbody>\n",
        "    <tr>\n",
        "      <th>0</th>\n",
        "      <td> SCFcv1</td>\n",
        "      <td> 07-FEB-2014</td>\n",
        "      <td> 00:59:00.860</td>\n",
        "      <td> 8</td>\n",
        "      <td> Trade</td>\n",
        "      <td> 51010</td>\n",
        "      <td> 658</td>\n",
        "      <td>   NaN</td>\n",
        "      <td>NaN</td>\n",
        "      <td>   NaN</td>\n",
        "      <td>NaN</td>\n",
        "      <td>     Open|High|Low[USER]</td>\n",
        "    </tr>\n",
        "    <tr>\n",
        "      <th>1</th>\n",
        "      <td> SCFcv1</td>\n",
        "      <td> 07-FEB-2014</td>\n",
        "      <td> 00:59:00.860</td>\n",
        "      <td> 8</td>\n",
        "      <td> Quote</td>\n",
        "      <td>   NaN</td>\n",
        "      <td> NaN</td>\n",
        "      <td> 51010</td>\n",
        "      <td>  4</td>\n",
        "      <td> 51020</td>\n",
        "      <td>  1</td>\n",
        "      <td> Open Bid|Open Ask[USER]</td>\n",
        "    </tr>\n",
        "    <tr>\n",
        "      <th>2</th>\n",
        "      <td> SCFcv1</td>\n",
        "      <td> 07-FEB-2014</td>\n",
        "      <td> 01:00:00.909</td>\n",
        "      <td> 8</td>\n",
        "      <td> Trade</td>\n",
        "      <td> 51020</td>\n",
        "      <td>  74</td>\n",
        "      <td>   NaN</td>\n",
        "      <td>NaN</td>\n",
        "      <td>   NaN</td>\n",
        "      <td>NaN</td>\n",
        "      <td>              High[USER]</td>\n",
        "    </tr>\n",
        "    <tr>\n",
        "      <th>3</th>\n",
        "      <td> SCFcv1</td>\n",
        "      <td> 07-FEB-2014</td>\n",
        "      <td> 01:00:00.909</td>\n",
        "      <td> 8</td>\n",
        "      <td> Quote</td>\n",
        "      <td>   NaN</td>\n",
        "      <td> NaN</td>\n",
        "      <td> 51030</td>\n",
        "      <td> 20</td>\n",
        "      <td> 51040</td>\n",
        "      <td>NaN</td>\n",
        "      <td>                     NaN</td>\n",
        "    </tr>\n",
        "    <tr>\n",
        "      <th>4</th>\n",
        "      <td> SCFcv1</td>\n",
        "      <td> 07-FEB-2014</td>\n",
        "      <td> 01:00:01.499</td>\n",
        "      <td> 8</td>\n",
        "      <td> Trade</td>\n",
        "      <td> 51020</td>\n",
        "      <td> 116</td>\n",
        "      <td>   NaN</td>\n",
        "      <td>NaN</td>\n",
        "      <td>   NaN</td>\n",
        "      <td>NaN</td>\n",
        "      <td>              High[USER]</td>\n",
        "    </tr>\n",
        "  </tbody>\n",
        "</table>\n",
        "</div>"
       ],
       "metadata": {},
       "output_type": "pyout",
       "prompt_number": 3,
       "text": [
        "     #RIC      Date[G]       Time[G]  GMT Offset   Type  Price  Volume  \\\n",
        "0  SCFcv1  07-FEB-2014  00:59:00.860           8  Trade  51010     658   \n",
        "1  SCFcv1  07-FEB-2014  00:59:00.860           8  Quote    NaN     NaN   \n",
        "2  SCFcv1  07-FEB-2014  01:00:00.909           8  Trade  51020      74   \n",
        "3  SCFcv1  07-FEB-2014  01:00:00.909           8  Quote    NaN     NaN   \n",
        "4  SCFcv1  07-FEB-2014  01:00:01.499           8  Trade  51020     116   \n",
        "\n",
        "   Bid Price  Bid Size  Ask Price  Ask Size               Qualifiers  \n",
        "0        NaN       NaN        NaN       NaN      Open|High|Low[USER]  \n",
        "1      51010         4      51020         1  Open Bid|Open Ask[USER]  \n",
        "2        NaN       NaN        NaN       NaN               High[USER]  \n",
        "3      51030        20      51040       NaN                      NaN  \n",
        "4        NaN       NaN        NaN       NaN               High[USER]  "
       ]
      }
     ],
     "prompt_number": 3
    },
    {
     "cell_type": "code",
     "collapsed": false,
     "input": [
      "hg_data.shape"
     ],
     "language": "python",
     "metadata": {},
     "outputs": [
      {
       "metadata": {},
       "output_type": "pyout",
       "prompt_number": 6,
       "text": [
        "(14756991, 12)"
       ]
      }
     ],
     "prompt_number": 6
    },
    {
     "cell_type": "code",
     "collapsed": false,
     "input": [
      "scf_data.shape"
     ],
     "language": "python",
     "metadata": {},
     "outputs": [
      {
       "metadata": {},
       "output_type": "pyout",
       "prompt_number": 7,
       "text": [
        "(3159182, 12)"
       ]
      }
     ],
     "prompt_number": 7
    },
    {
     "cell_type": "raw",
     "metadata": {},
     "source": [
      "Create uniform timestamps"
     ]
    },
    {
     "cell_type": "code",
     "collapsed": false,
     "input": [
      "from datetime import *\n",
      "from pytz import timezone\n",
      "#for row_number in range(0, len(scf_data)):\n",
      "#    str_datetime = \"-\".join([scf_data.ix[row_number, \"Date[G]\"],\n",
      "#                             scf_data.ix[row_number, \"Time[G]\"]])\n",
      "#    scf_data.ix[row_number, \"Datetime\"] = datetime.strptime(str_datetime, \"%d-%b-%Y-%H:%M:%S.%f\").replace(tzinfo=timezone(\"Etc/GMT+8\"))\n",
      "def create_datetime(df, tz_shift_hours):\n",
      "    df[\"DatetimeStr\"] = df[\"Date[G]\"]+\" \"+df[\"Time[G]\"]\n",
      "    df[\"Datetime\"] = pd.to_datetime(df[\"DatetimeStr\"], format=\"%d-%b-%Y %H:%M:%S.%f\")\n",
      "    df[\"Datetime\"] = df[\"Datetime\"].apply(lambda x:x-timedelta(hours=tz_shift_hours))"
     ],
     "language": "python",
     "metadata": {},
     "outputs": []
    },
    {
     "cell_type": "markdown",
     "metadata": {},
     "source": [
      "Merge two tick dataframes together"
     ]
    },
    {
     "cell_type": "markdown",
     "metadata": {},
     "source": [
      "Since Reuters original tick data is too huge, we are going to use only trade tick data."
     ]
    },
    {
     "cell_type": "code",
     "collapsed": false,
     "input": [
      "import pandas as pd\n",
      "hg_trades = pd.read_csv(r\"C:\\Copper\\HG ##-##.Last.txt\", names=[\"DatetimeStr\", \"Price\", \"Qty\"], delimiter=\";\", parse_dates=True)\n",
      "hg_trades[\"Datetime\"] = pd.to_datetime(hg_trades[\"DatetimeStr\"],\"%Y%m%d %H%M%S\")\n",
      "#hg_trades = hg_trades.set_index(\"Datetime\")\n",
      "hg_trades[\"Symbol\"] = 1\n",
      "scf_trades = pd.read_csv(r\"C:\\Copper\\SCF ##-##.Last.txt\", names=[\"DatetimeStr\", \"Price\", \"Qty\"], delimiter=\";\", parse_dates=True)\n",
      "scf_trades[\"Datetime\"] = pd.to_datetime(scf_trades[\"DatetimeStr\"],\"%Y%m%d %H%M%S\")\n",
      "#scf_trades = scf_trades.set_index(\"Datetime\")\n",
      "scf_trades[\"Symbol\"] = 2\n",
      "print hg_trades.shape\n",
      "print scf_trades.shape\n",
      "total_trades = pd.concat([scf_trades, hg_trades])\n",
      "total_px = total_trades.drop(\"Qty\", 1)\n",
      "total_px = total_trades.drop(\"DatetimeStr\", 1)\n",
      "total_px = total_px.sort(\"Datetime\")\n",
      "total_px = total_px.drop_duplicates()\n",
      "total_copy = total_px.copy()\n",
      "total_copy.index = total_copy.index+1\n",
      "total_px = pd.merge(total_px, total_copy)"
     ],
     "language": "python",
     "metadata": {},
     "outputs": [
      {
       "output_type": "stream",
       "stream": "stdout",
       "text": [
        "(1855292, 5)\n",
        "(1138533, 5)\n"
       ]
      }
     ],
     "prompt_number": 15
    },
    {
     "cell_type": "code",
     "collapsed": false,
     "input": [],
     "language": "python",
     "metadata": {},
     "outputs": []
    }
   ],
   "metadata": {}
  }
 ]
}