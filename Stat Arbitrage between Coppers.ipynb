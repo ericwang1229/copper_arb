{
 "metadata": {
  "name": "",
  "signature": "sha256:3af60377ee40810762765f803b1f40b457544a36d00a5d1f3e79ebbb6ef79ee7"
 },
 "nbformat": 3,
 "nbformat_minor": 0,
 "worksheets": [
  {
   "cells": [
    {
     "cell_type": "markdown",
     "metadata": {},
     "source": [
      "Import Reuters tick data"
     ]
    },
    {
     "cell_type": "code",
     "collapsed": false,
     "input": [
      "import pandas as pd\n",
      "import numpy as np\n",
      "hg_data = pd.read_csv(r\"C:\\Copper\\HG.csv\")\n",
      "scf_data = pd.read_csv(r\"C:\\Copper\\SCF.csv\")"
     ],
     "language": "python",
     "metadata": {},
     "outputs": [
      {
       "output_type": "stream",
       "stream": "stderr",
       "text": [
        "C:\\Python279\\lib\\site-packages\\pandas\\io\\parsers.py:1159: DtypeWarning: Columns (11) have mixed types. Specify dtype option on import or set low_memory=False.\n",
        "  data = self._reader.read(nrows)\n"
       ]
      }
     ],
     "prompt_number": 1
    },
    {
     "cell_type": "code",
     "collapsed": false,
     "input": [
      "hg_data.head()"
     ],
     "language": "python",
     "metadata": {},
     "outputs": [
      {
       "html": [
        "<div style=\"max-height:1000px;max-width:1500px;overflow:auto;\">\n",
        "<table border=\"1\" class=\"dataframe\">\n",
        "  <thead>\n",
        "    <tr style=\"text-align: right;\">\n",
        "      <th></th>\n",
        "      <th>#RIC</th>\n",
        "      <th>Date[G]</th>\n",
        "      <th>Time[G]</th>\n",
        "      <th>GMT Offset</th>\n",
        "      <th>Type</th>\n",
        "      <th>Price</th>\n",
        "      <th>Volume</th>\n",
        "      <th>Bid Price</th>\n",
        "      <th>Bid Size</th>\n",
        "      <th>Ask Price</th>\n",
        "      <th>Ask Size</th>\n",
        "      <th>Qualifiers</th>\n",
        "    </tr>\n",
        "  </thead>\n",
        "  <tbody>\n",
        "    <tr>\n",
        "      <th>0</th>\n",
        "      <td> HGcv1</td>\n",
        "      <td> 05-FEB-2014</td>\n",
        "      <td> 00:00:16.426</td>\n",
        "      <td>-5</td>\n",
        "      <td> Trade</td>\n",
        "      <td> 3.194</td>\n",
        "      <td>  1</td>\n",
        "      <td>    NaN</td>\n",
        "      <td>NaN</td>\n",
        "      <td>NaN</td>\n",
        "      <td>NaN</td>\n",
        "      <td> NaN</td>\n",
        "    </tr>\n",
        "    <tr>\n",
        "      <th>1</th>\n",
        "      <td> HGcv1</td>\n",
        "      <td> 05-FEB-2014</td>\n",
        "      <td> 00:00:16.426</td>\n",
        "      <td>-5</td>\n",
        "      <td> Quote</td>\n",
        "      <td>   NaN</td>\n",
        "      <td>NaN</td>\n",
        "      <td> 3.1940</td>\n",
        "      <td>  1</td>\n",
        "      <td>NaN</td>\n",
        "      <td>NaN</td>\n",
        "      <td> NaN</td>\n",
        "    </tr>\n",
        "    <tr>\n",
        "      <th>2</th>\n",
        "      <td> HGcv1</td>\n",
        "      <td> 05-FEB-2014</td>\n",
        "      <td> 00:00:30.853</td>\n",
        "      <td>-5</td>\n",
        "      <td> Trade</td>\n",
        "      <td> 3.194</td>\n",
        "      <td>  1</td>\n",
        "      <td>    NaN</td>\n",
        "      <td>NaN</td>\n",
        "      <td>NaN</td>\n",
        "      <td>NaN</td>\n",
        "      <td> NaN</td>\n",
        "    </tr>\n",
        "    <tr>\n",
        "      <th>3</th>\n",
        "      <td> HGcv1</td>\n",
        "      <td> 05-FEB-2014</td>\n",
        "      <td> 00:00:30.853</td>\n",
        "      <td>-5</td>\n",
        "      <td> Quote</td>\n",
        "      <td>   NaN</td>\n",
        "      <td>NaN</td>\n",
        "      <td> 3.1935</td>\n",
        "      <td>  6</td>\n",
        "      <td>NaN</td>\n",
        "      <td>NaN</td>\n",
        "      <td> NaN</td>\n",
        "    </tr>\n",
        "    <tr>\n",
        "      <th>4</th>\n",
        "      <td> HGcv1</td>\n",
        "      <td> 05-FEB-2014</td>\n",
        "      <td> 00:00:30.853</td>\n",
        "      <td>-5</td>\n",
        "      <td> Quote</td>\n",
        "      <td>   NaN</td>\n",
        "      <td>NaN</td>\n",
        "      <td> 3.1935</td>\n",
        "      <td>  5</td>\n",
        "      <td>NaN</td>\n",
        "      <td>NaN</td>\n",
        "      <td> NaN</td>\n",
        "    </tr>\n",
        "  </tbody>\n",
        "</table>\n",
        "</div>"
       ],
       "metadata": {},
       "output_type": "pyout",
       "prompt_number": 2,
       "text": [
        "    #RIC      Date[G]       Time[G]  GMT Offset   Type  Price  Volume  \\\n",
        "0  HGcv1  05-FEB-2014  00:00:16.426          -5  Trade  3.194       1   \n",
        "1  HGcv1  05-FEB-2014  00:00:16.426          -5  Quote    NaN     NaN   \n",
        "2  HGcv1  05-FEB-2014  00:00:30.853          -5  Trade  3.194       1   \n",
        "3  HGcv1  05-FEB-2014  00:00:30.853          -5  Quote    NaN     NaN   \n",
        "4  HGcv1  05-FEB-2014  00:00:30.853          -5  Quote    NaN     NaN   \n",
        "\n",
        "   Bid Price  Bid Size  Ask Price  Ask Size Qualifiers  \n",
        "0        NaN       NaN        NaN       NaN        NaN  \n",
        "1     3.1940         1        NaN       NaN        NaN  \n",
        "2        NaN       NaN        NaN       NaN        NaN  \n",
        "3     3.1935         6        NaN       NaN        NaN  \n",
        "4     3.1935         5        NaN       NaN        NaN  "
       ]
      }
     ],
     "prompt_number": 2
    },
    {
     "cell_type": "code",
     "collapsed": false,
     "input": [
      "scf_data.head()"
     ],
     "language": "python",
     "metadata": {},
     "outputs": [
      {
       "html": [
        "<div style=\"max-height:1000px;max-width:1500px;overflow:auto;\">\n",
        "<table border=\"1\" class=\"dataframe\">\n",
        "  <thead>\n",
        "    <tr style=\"text-align: right;\">\n",
        "      <th></th>\n",
        "      <th>#RIC</th>\n",
        "      <th>Date[G]</th>\n",
        "      <th>Time[G]</th>\n",
        "      <th>GMT Offset</th>\n",
        "      <th>Type</th>\n",
        "      <th>Price</th>\n",
        "      <th>Volume</th>\n",
        "      <th>Bid Price</th>\n",
        "      <th>Bid Size</th>\n",
        "      <th>Ask Price</th>\n",
        "      <th>Ask Size</th>\n",
        "      <th>Qualifiers</th>\n",
        "    </tr>\n",
        "  </thead>\n",
        "  <tbody>\n",
        "    <tr>\n",
        "      <th>0</th>\n",
        "      <td> SCFcv1</td>\n",
        "      <td> 07-FEB-2014</td>\n",
        "      <td> 00:59:00.860</td>\n",
        "      <td> 8</td>\n",
        "      <td> Trade</td>\n",
        "      <td> 51010</td>\n",
        "      <td> 658</td>\n",
        "      <td>   NaN</td>\n",
        "      <td>NaN</td>\n",
        "      <td>   NaN</td>\n",
        "      <td>NaN</td>\n",
        "      <td>     Open|High|Low[USER]</td>\n",
        "    </tr>\n",
        "    <tr>\n",
        "      <th>1</th>\n",
        "      <td> SCFcv1</td>\n",
        "      <td> 07-FEB-2014</td>\n",
        "      <td> 00:59:00.860</td>\n",
        "      <td> 8</td>\n",
        "      <td> Quote</td>\n",
        "      <td>   NaN</td>\n",
        "      <td> NaN</td>\n",
        "      <td> 51010</td>\n",
        "      <td>  4</td>\n",
        "      <td> 51020</td>\n",
        "      <td>  1</td>\n",
        "      <td> Open Bid|Open Ask[USER]</td>\n",
        "    </tr>\n",
        "    <tr>\n",
        "      <th>2</th>\n",
        "      <td> SCFcv1</td>\n",
        "      <td> 07-FEB-2014</td>\n",
        "      <td> 01:00:00.909</td>\n",
        "      <td> 8</td>\n",
        "      <td> Trade</td>\n",
        "      <td> 51020</td>\n",
        "      <td>  74</td>\n",
        "      <td>   NaN</td>\n",
        "      <td>NaN</td>\n",
        "      <td>   NaN</td>\n",
        "      <td>NaN</td>\n",
        "      <td>              High[USER]</td>\n",
        "    </tr>\n",
        "    <tr>\n",
        "      <th>3</th>\n",
        "      <td> SCFcv1</td>\n",
        "      <td> 07-FEB-2014</td>\n",
        "      <td> 01:00:00.909</td>\n",
        "      <td> 8</td>\n",
        "      <td> Quote</td>\n",
        "      <td>   NaN</td>\n",
        "      <td> NaN</td>\n",
        "      <td> 51030</td>\n",
        "      <td> 20</td>\n",
        "      <td> 51040</td>\n",
        "      <td>NaN</td>\n",
        "      <td>                     NaN</td>\n",
        "    </tr>\n",
        "    <tr>\n",
        "      <th>4</th>\n",
        "      <td> SCFcv1</td>\n",
        "      <td> 07-FEB-2014</td>\n",
        "      <td> 01:00:01.499</td>\n",
        "      <td> 8</td>\n",
        "      <td> Trade</td>\n",
        "      <td> 51020</td>\n",
        "      <td> 116</td>\n",
        "      <td>   NaN</td>\n",
        "      <td>NaN</td>\n",
        "      <td>   NaN</td>\n",
        "      <td>NaN</td>\n",
        "      <td>              High[USER]</td>\n",
        "    </tr>\n",
        "  </tbody>\n",
        "</table>\n",
        "</div>"
       ],
       "metadata": {},
       "output_type": "pyout",
       "prompt_number": 3,
       "text": [
        "     #RIC      Date[G]       Time[G]  GMT Offset   Type  Price  Volume  \\\n",
        "0  SCFcv1  07-FEB-2014  00:59:00.860           8  Trade  51010     658   \n",
        "1  SCFcv1  07-FEB-2014  00:59:00.860           8  Quote    NaN     NaN   \n",
        "2  SCFcv1  07-FEB-2014  01:00:00.909           8  Trade  51020      74   \n",
        "3  SCFcv1  07-FEB-2014  01:00:00.909           8  Quote    NaN     NaN   \n",
        "4  SCFcv1  07-FEB-2014  01:00:01.499           8  Trade  51020     116   \n",
        "\n",
        "   Bid Price  Bid Size  Ask Price  Ask Size               Qualifiers  \n",
        "0        NaN       NaN        NaN       NaN      Open|High|Low[USER]  \n",
        "1      51010         4      51020         1  Open Bid|Open Ask[USER]  \n",
        "2        NaN       NaN        NaN       NaN               High[USER]  \n",
        "3      51030        20      51040       NaN                      NaN  \n",
        "4        NaN       NaN        NaN       NaN               High[USER]  "
       ]
      }
     ],
     "prompt_number": 3
    },
    {
     "cell_type": "code",
     "collapsed": false,
     "input": [
      "hg_data.shape"
     ],
     "language": "python",
     "metadata": {},
     "outputs": [
      {
       "metadata": {},
       "output_type": "pyout",
       "prompt_number": 6,
       "text": [
        "(14756991, 12)"
       ]
      }
     ],
     "prompt_number": 6
    },
    {
     "cell_type": "code",
     "collapsed": false,
     "input": [
      "scf_data.shape"
     ],
     "language": "python",
     "metadata": {},
     "outputs": [
      {
       "metadata": {},
       "output_type": "pyout",
       "prompt_number": 7,
       "text": [
        "(3159182, 12)"
       ]
      }
     ],
     "prompt_number": 7
    },
    {
     "cell_type": "raw",
     "metadata": {},
     "source": [
      "Create uniform timestamps"
     ]
    },
    {
     "cell_type": "code",
     "collapsed": false,
     "input": [
      "from datetime import *\n",
      "from pytz import timezone\n",
      "#for row_number in range(0, len(scf_data)):\n",
      "#    str_datetime = \"-\".join([scf_data.ix[row_number, \"Date[G]\"],\n",
      "#                             scf_data.ix[row_number, \"Time[G]\"]])\n",
      "#    scf_data.ix[row_number, \"Datetime\"] = datetime.strptime(str_datetime, \"%d-%b-%Y-%H:%M:%S.%f\").replace(tzinfo=timezone(\"Etc/GMT+8\"))\n",
      "def create_datetime(df, tz_shift_hours):\n",
      "    df[\"DatetimeStr\"] = df[\"Date[G]\"]+\" \"+df[\"Time[G]\"]\n",
      "    df[\"Datetime\"] = pd.to_datetime(df[\"DatetimeStr\"], format=\"%d-%b-%Y %H:%M:%S.%f\")\n",
      "    df[\"Datetime\"] = df[\"Datetime\"].apply(lambda x:x-timedelta(hours=tz_shift_hours))"
     ],
     "language": "python",
     "metadata": {},
     "outputs": []
    },
    {
     "cell_type": "markdown",
     "metadata": {},
     "source": [
      "Merge two tick dataframes together"
     ]
    },
    {
     "cell_type": "markdown",
     "metadata": {},
     "source": [
      "Since Reuters original tick data is too huge, we are going to use only trade tick data."
     ]
    },
    {
     "cell_type": "code",
     "collapsed": false,
     "input": [
      "import pandas as pd\n",
      "hg_trades = pd.read_csv(r\"C:\\Copper\\git\\HG ##-##.Last.txt\", names=[\"DatetimeStr\", \"Price\", \"Qty\"], delimiter=\";\", parse_dates=True)\n",
      "hg_trades[\"Datetime\"] = pd.to_datetime(hg_trades[\"DatetimeStr\"],\"%Y%m%d %H%M%S\")\n",
      "#hg_trades = hg_trades.set_index(\"Datetime\")\n",
      "hg_trades[\"Symbol\"] = 1\n",
      "scf_trades = pd.read_csv(r\"C:\\Copper\\git\\SCF ##-##.Last.txt\", names=[\"DatetimeStr\", \"Price\", \"Qty\"], delimiter=\";\", parse_dates=True)\n",
      "scf_trades[\"Datetime\"] = pd.to_datetime(scf_trades[\"DatetimeStr\"],\"%Y%m%d %H%M%S\")\n",
      "#scf_trades = scf_trades.set_index(\"Datetime\")\n",
      "scf_trades[\"Symbol\"] = 2\n",
      "print hg_trades.shape\n",
      "print scf_trades.shape\n",
      "total_trades = pd.concat([scf_trades, hg_trades])\n",
      "total_px = total_trades.drop(\"Qty\", 1)\n",
      "total_px = total_trades.drop(\"DatetimeStr\", 1)\n",
      "total_px = total_px.sort(\"Datetime\")\n",
      "total_px = total_px.drop_duplicates()\n",
      "total_px.index = range(0, len(total_px))\n",
      "total_copy = total_px.copy()\n",
      "total_copy.index = total_copy.index + 1"
     ],
     "language": "python",
     "metadata": {},
     "outputs": [
      {
       "output_type": "stream",
       "stream": "stdout",
       "text": [
        "(1855292, 5)\n",
        "(1138533, 5)\n"
       ]
      }
     ],
     "prompt_number": 17
    },
    {
     "cell_type": "code",
     "collapsed": false,
     "input": [],
     "language": "python",
     "metadata": {},
     "outputs": []
    },
    {
     "cell_type": "code",
     "collapsed": false,
     "input": [
      "print total_px.shape\n",
      "print total_copy.shape"
     ],
     "language": "python",
     "metadata": {},
     "outputs": [
      {
       "output_type": "stream",
       "stream": "stdout",
       "text": [
        "(1911892, 4)\n",
        "(1911892, 4)\n"
       ]
      }
     ],
     "prompt_number": 8
    },
    {
     "cell_type": "code",
     "collapsed": false,
     "input": [
      "total_px_merged = pd.merge(total_px, total_copy, left_index = True, right_index=True)\n",
      "total_px_merged.head()"
     ],
     "language": "python",
     "metadata": {},
     "outputs": [
      {
       "html": [
        "<div style=\"max-height:1000px;max-width:1500px;overflow:auto;\">\n",
        "<table border=\"1\" class=\"dataframe\">\n",
        "  <thead>\n",
        "    <tr style=\"text-align: right;\">\n",
        "      <th></th>\n",
        "      <th>Price_x</th>\n",
        "      <th>Qty_x</th>\n",
        "      <th>Datetime_x</th>\n",
        "      <th>Symbol_x</th>\n",
        "      <th>Price_y</th>\n",
        "      <th>Qty_y</th>\n",
        "      <th>Datetime_y</th>\n",
        "      <th>Symbol_y</th>\n",
        "    </tr>\n",
        "  </thead>\n",
        "  <tbody>\n",
        "    <tr>\n",
        "      <th>1</th>\n",
        "      <td> 3.1940</td>\n",
        "      <td> 1</td>\n",
        "      <td>2014-02-05 00:05:32</td>\n",
        "      <td> 1</td>\n",
        "      <td> 3.1935</td>\n",
        "      <td> 1</td>\n",
        "      <td>2014-02-05 00:02:17</td>\n",
        "      <td> 1</td>\n",
        "    </tr>\n",
        "    <tr>\n",
        "      <th>2</th>\n",
        "      <td> 3.1945</td>\n",
        "      <td> 1</td>\n",
        "      <td>2014-02-05 00:06:05</td>\n",
        "      <td> 1</td>\n",
        "      <td> 3.1940</td>\n",
        "      <td> 1</td>\n",
        "      <td>2014-02-05 00:05:32</td>\n",
        "      <td> 1</td>\n",
        "    </tr>\n",
        "    <tr>\n",
        "      <th>3</th>\n",
        "      <td> 3.1945</td>\n",
        "      <td> 3</td>\n",
        "      <td>2014-02-05 00:06:05</td>\n",
        "      <td> 1</td>\n",
        "      <td> 3.1945</td>\n",
        "      <td> 1</td>\n",
        "      <td>2014-02-05 00:06:05</td>\n",
        "      <td> 1</td>\n",
        "    </tr>\n",
        "    <tr>\n",
        "      <th>4</th>\n",
        "      <td> 3.1945</td>\n",
        "      <td> 2</td>\n",
        "      <td>2014-02-05 00:06:05</td>\n",
        "      <td> 1</td>\n",
        "      <td> 3.1945</td>\n",
        "      <td> 3</td>\n",
        "      <td>2014-02-05 00:06:05</td>\n",
        "      <td> 1</td>\n",
        "    </tr>\n",
        "    <tr>\n",
        "      <th>5</th>\n",
        "      <td> 3.1945</td>\n",
        "      <td> 2</td>\n",
        "      <td>2014-02-05 00:06:06</td>\n",
        "      <td> 1</td>\n",
        "      <td> 3.1945</td>\n",
        "      <td> 2</td>\n",
        "      <td>2014-02-05 00:06:05</td>\n",
        "      <td> 1</td>\n",
        "    </tr>\n",
        "  </tbody>\n",
        "</table>\n",
        "</div>"
       ],
       "metadata": {},
       "output_type": "pyout",
       "prompt_number": 18,
       "text": [
        "   Price_x  Qty_x          Datetime_x  Symbol_x  Price_y  Qty_y  \\\n",
        "1   3.1940      1 2014-02-05 00:05:32         1   3.1935      1   \n",
        "2   3.1945      1 2014-02-05 00:06:05         1   3.1940      1   \n",
        "3   3.1945      3 2014-02-05 00:06:05         1   3.1945      1   \n",
        "4   3.1945      2 2014-02-05 00:06:05         1   3.1945      3   \n",
        "5   3.1945      2 2014-02-05 00:06:06         1   3.1945      2   \n",
        "\n",
        "           Datetime_y  Symbol_y  \n",
        "1 2014-02-05 00:02:17         1  \n",
        "2 2014-02-05 00:05:32         1  \n",
        "3 2014-02-05 00:06:05         1  \n",
        "4 2014-02-05 00:06:05         1  \n",
        "5 2014-02-05 00:06:05         1  "
       ]
      }
     ],
     "prompt_number": 18
    },
    {
     "cell_type": "code",
     "collapsed": false,
     "input": [
      "total_px_merged2 = total_px_merged[(total_px_merged.Price_x <> total_px_merged.Price_y) |\\\n",
      "                            (total_px_merged.Datetime_x <> total_px_merged.Datetime_y) |\\\n",
      "                            (total_px_merged.Symbol_x <> total_px_merged.Symbol_y)]"
     ],
     "language": "python",
     "metadata": {},
     "outputs": [],
     "prompt_number": 27
    },
    {
     "cell_type": "code",
     "collapsed": false,
     "input": [
      "total_px_merged2.head()"
     ],
     "language": "python",
     "metadata": {},
     "outputs": [
      {
       "html": [
        "<div style=\"max-height:1000px;max-width:1500px;overflow:auto;\">\n",
        "<table border=\"1\" class=\"dataframe\">\n",
        "  <thead>\n",
        "    <tr style=\"text-align: right;\">\n",
        "      <th></th>\n",
        "      <th>Price_x</th>\n",
        "      <th>Qty_x</th>\n",
        "      <th>Datetime_x</th>\n",
        "      <th>Symbol_x</th>\n",
        "      <th>Price_y</th>\n",
        "      <th>Qty_y</th>\n",
        "      <th>Datetime_y</th>\n",
        "      <th>Symbol_y</th>\n",
        "    </tr>\n",
        "  </thead>\n",
        "  <tbody>\n",
        "    <tr>\n",
        "      <th>1</th>\n",
        "      <td> 3.1940</td>\n",
        "      <td>  1</td>\n",
        "      <td>2014-02-05 00:05:32</td>\n",
        "      <td> 1</td>\n",
        "      <td> 3.1935</td>\n",
        "      <td>  1</td>\n",
        "      <td>2014-02-05 00:02:17</td>\n",
        "      <td> 1</td>\n",
        "    </tr>\n",
        "    <tr>\n",
        "      <th>2</th>\n",
        "      <td> 3.1945</td>\n",
        "      <td>  1</td>\n",
        "      <td>2014-02-05 00:06:05</td>\n",
        "      <td> 1</td>\n",
        "      <td> 3.1940</td>\n",
        "      <td>  1</td>\n",
        "      <td>2014-02-05 00:05:32</td>\n",
        "      <td> 1</td>\n",
        "    </tr>\n",
        "    <tr>\n",
        "      <th>5</th>\n",
        "      <td> 3.1945</td>\n",
        "      <td>  2</td>\n",
        "      <td>2014-02-05 00:06:06</td>\n",
        "      <td> 1</td>\n",
        "      <td> 3.1945</td>\n",
        "      <td>  2</td>\n",
        "      <td>2014-02-05 00:06:05</td>\n",
        "      <td> 1</td>\n",
        "    </tr>\n",
        "    <tr>\n",
        "      <th>6</th>\n",
        "      <td> 3.1940</td>\n",
        "      <td> 10</td>\n",
        "      <td>2014-02-05 00:06:09</td>\n",
        "      <td> 1</td>\n",
        "      <td> 3.1945</td>\n",
        "      <td>  2</td>\n",
        "      <td>2014-02-05 00:06:06</td>\n",
        "      <td> 1</td>\n",
        "    </tr>\n",
        "    <tr>\n",
        "      <th>7</th>\n",
        "      <td> 3.1940</td>\n",
        "      <td>  1</td>\n",
        "      <td>2014-02-05 00:07:13</td>\n",
        "      <td> 1</td>\n",
        "      <td> 3.1940</td>\n",
        "      <td> 10</td>\n",
        "      <td>2014-02-05 00:06:09</td>\n",
        "      <td> 1</td>\n",
        "    </tr>\n",
        "  </tbody>\n",
        "</table>\n",
        "</div>"
       ],
       "metadata": {},
       "output_type": "pyout",
       "prompt_number": 28,
       "text": [
        "   Price_x  Qty_x          Datetime_x  Symbol_x  Price_y  Qty_y  \\\n",
        "1   3.1940      1 2014-02-05 00:05:32         1   3.1935      1   \n",
        "2   3.1945      1 2014-02-05 00:06:05         1   3.1940      1   \n",
        "5   3.1945      2 2014-02-05 00:06:06         1   3.1945      2   \n",
        "6   3.1940     10 2014-02-05 00:06:09         1   3.1945      2   \n",
        "7   3.1940      1 2014-02-05 00:07:13         1   3.1940     10   \n",
        "\n",
        "           Datetime_y  Symbol_y  \n",
        "1 2014-02-05 00:02:17         1  \n",
        "2 2014-02-05 00:05:32         1  \n",
        "5 2014-02-05 00:06:05         1  \n",
        "6 2014-02-05 00:06:06         1  \n",
        "7 2014-02-05 00:06:09         1  "
       ]
      }
     ],
     "prompt_number": 28
    },
    {
     "cell_type": "code",
     "collapsed": false,
     "input": [
      "total_px_merged2 = total_px_merged2.drop([\"Price_x\",\"Qty_x\",\"Datetime_x\",\"Symbol_x\"],1)\n",
      "total_px_merged2.index = range(0, len(total_px_merged2))\n",
      "total_px_merged2.columns = [\"Price\", \"Qty\", \"Datetime\", \"Symbol\"]"
     ],
     "language": "python",
     "metadata": {},
     "outputs": [],
     "prompt_number": 32
    },
    {
     "cell_type": "code",
     "collapsed": false,
     "input": [
      "total_px_merged2.head()"
     ],
     "language": "python",
     "metadata": {},
     "outputs": [
      {
       "html": [
        "<div style=\"max-height:1000px;max-width:1500px;overflow:auto;\">\n",
        "<table border=\"1\" class=\"dataframe\">\n",
        "  <thead>\n",
        "    <tr style=\"text-align: right;\">\n",
        "      <th></th>\n",
        "      <th>Price</th>\n",
        "      <th>Qty</th>\n",
        "      <th>Datetime</th>\n",
        "      <th>Symbol</th>\n",
        "    </tr>\n",
        "  </thead>\n",
        "  <tbody>\n",
        "    <tr>\n",
        "      <th>0</th>\n",
        "      <td> 3.1935</td>\n",
        "      <td>  1</td>\n",
        "      <td>2014-02-05 00:02:17</td>\n",
        "      <td> 1</td>\n",
        "    </tr>\n",
        "    <tr>\n",
        "      <th>1</th>\n",
        "      <td> 3.1940</td>\n",
        "      <td>  1</td>\n",
        "      <td>2014-02-05 00:05:32</td>\n",
        "      <td> 1</td>\n",
        "    </tr>\n",
        "    <tr>\n",
        "      <th>2</th>\n",
        "      <td> 3.1945</td>\n",
        "      <td>  2</td>\n",
        "      <td>2014-02-05 00:06:05</td>\n",
        "      <td> 1</td>\n",
        "    </tr>\n",
        "    <tr>\n",
        "      <th>3</th>\n",
        "      <td> 3.1945</td>\n",
        "      <td>  2</td>\n",
        "      <td>2014-02-05 00:06:06</td>\n",
        "      <td> 1</td>\n",
        "    </tr>\n",
        "    <tr>\n",
        "      <th>4</th>\n",
        "      <td> 3.1940</td>\n",
        "      <td> 10</td>\n",
        "      <td>2014-02-05 00:06:09</td>\n",
        "      <td> 1</td>\n",
        "    </tr>\n",
        "  </tbody>\n",
        "</table>\n",
        "</div>"
       ],
       "metadata": {},
       "output_type": "pyout",
       "prompt_number": 33,
       "text": [
        "    Price  Qty            Datetime  Symbol\n",
        "0  3.1935    1 2014-02-05 00:02:17       1\n",
        "1  3.1940    1 2014-02-05 00:05:32       1\n",
        "2  3.1945    2 2014-02-05 00:06:05       1\n",
        "3  3.1945    2 2014-02-05 00:06:06       1\n",
        "4  3.1940   10 2014-02-05 00:06:09       1"
       ]
      }
     ],
     "prompt_number": 33
    },
    {
     "cell_type": "code",
     "collapsed": false,
     "input": [
      "total_px_merged2.shape"
     ],
     "language": "python",
     "metadata": {},
     "outputs": [
      {
       "metadata": {},
       "output_type": "pyout",
       "prompt_number": 35,
       "text": [
        "(1575741, 4)"
       ]
      }
     ],
     "prompt_number": 35
    },
    {
     "cell_type": "markdown",
     "metadata": {},
     "source": [
      "from tick to minute candles"
     ]
    },
    {
     "cell_type": "code",
     "collapsed": false,
     "input": [
      "hg_trades = pd.read_csv(r\"C:\\Copper\\git\\HG ##-##.Last.txt\", names=[\"DatetimeStr\", \"Price\", \"Qty\"], delimiter=\";\", parse_dates=True)\n",
      "hg_trades[\"Datetime\"] = pd.to_datetime(hg_trades[\"DatetimeStr\"],\"%Y%m%d %H%M%S\")\n",
      "hg_trades2 = hg_trades.set_index(pd.DatetimeIndex(hg_trades[\"Datetime\"]))\n",
      "hg_trades2 = hg_trades2.drop([\"Qty\", \"DatetimeStr\", \"Datetime\"],1)\n",
      "hg_candles = hg_trades2.resample(\"Min\",how=\"ohlc\")\n",
      "scf_trades = pd.read_csv(r\"C:\\Copper\\git\\SCF ##-##.Last.txt\", names=[\"DatetimeStr\", \"Price\", \"Qty\"], delimiter=\";\", parse_dates=True)\n",
      "scf_trades[\"Datetime\"] = pd.to_datetime(scf_trades[\"DatetimeStr\"],\"%Y%m%d %H%M%S\")\n",
      "scf_trades2 = scf_trades.set_index(pd.DatetimeIndex(scf_trades[\"Datetime\"]))\n",
      "scf_trades2 = scf_trades2.drop([\"Qty\", \"DatetimeStr\", \"Datetime\"],1)\n",
      "scf_candles = scf_trades2.resample(\"Min\",how=\"ohlc\")\n",
      "candles = pd.merge(hg_candles, scf_candles, left_index=True, right_index=True)\n",
      "candles.head()"
     ],
     "language": "python",
     "metadata": {},
     "outputs": [
      {
       "ename": "ValueError",
       "evalue": "Length mismatch: Expected axis has 1138533 elements, new values have 1855292 elements",
       "output_type": "pyerr",
       "traceback": [
        "\u001b[1;31m---------------------------------------------------------------------------\u001b[0m\n\u001b[1;31mValueError\u001b[0m                                Traceback (most recent call last)",
        "\u001b[1;32m<ipython-input-40-55e16804eb2f>\u001b[0m in \u001b[0;36m<module>\u001b[1;34m()\u001b[0m\n\u001b[0;32m      6\u001b[0m \u001b[0mscf_trades\u001b[0m \u001b[1;33m=\u001b[0m \u001b[0mpd\u001b[0m\u001b[1;33m.\u001b[0m\u001b[0mread_csv\u001b[0m\u001b[1;33m(\u001b[0m\u001b[1;34mr\"C:\\Copper\\git\\SCF ##-##.Last.txt\"\u001b[0m\u001b[1;33m,\u001b[0m \u001b[0mnames\u001b[0m\u001b[1;33m=\u001b[0m\u001b[1;33m[\u001b[0m\u001b[1;34m\"DatetimeStr\"\u001b[0m\u001b[1;33m,\u001b[0m \u001b[1;34m\"Price\"\u001b[0m\u001b[1;33m,\u001b[0m \u001b[1;34m\"Qty\"\u001b[0m\u001b[1;33m]\u001b[0m\u001b[1;33m,\u001b[0m \u001b[0mdelimiter\u001b[0m\u001b[1;33m=\u001b[0m\u001b[1;34m\";\"\u001b[0m\u001b[1;33m,\u001b[0m \u001b[0mparse_dates\u001b[0m\u001b[1;33m=\u001b[0m\u001b[0mTrue\u001b[0m\u001b[1;33m)\u001b[0m\u001b[1;33m\u001b[0m\u001b[0m\n\u001b[0;32m      7\u001b[0m \u001b[0mscf_trades\u001b[0m\u001b[1;33m[\u001b[0m\u001b[1;34m\"Datetime\"\u001b[0m\u001b[1;33m]\u001b[0m \u001b[1;33m=\u001b[0m \u001b[0mpd\u001b[0m\u001b[1;33m.\u001b[0m\u001b[0mto_datetime\u001b[0m\u001b[1;33m(\u001b[0m\u001b[0mscf_trades\u001b[0m\u001b[1;33m[\u001b[0m\u001b[1;34m\"DatetimeStr\"\u001b[0m\u001b[1;33m]\u001b[0m\u001b[1;33m,\u001b[0m\u001b[1;34m\"%Y%m%d %H%M%S\"\u001b[0m\u001b[1;33m)\u001b[0m\u001b[1;33m\u001b[0m\u001b[0m\n\u001b[1;32m----> 8\u001b[1;33m \u001b[0mscf_trades2\u001b[0m \u001b[1;33m=\u001b[0m \u001b[0mscf_trades\u001b[0m\u001b[1;33m.\u001b[0m\u001b[0mset_index\u001b[0m\u001b[1;33m(\u001b[0m\u001b[0mpd\u001b[0m\u001b[1;33m.\u001b[0m\u001b[0mDatetimeIndex\u001b[0m\u001b[1;33m(\u001b[0m\u001b[0mhg_trades\u001b[0m\u001b[1;33m[\u001b[0m\u001b[1;34m\"Datetime\"\u001b[0m\u001b[1;33m]\u001b[0m\u001b[1;33m)\u001b[0m\u001b[1;33m)\u001b[0m\u001b[1;33m\u001b[0m\u001b[0m\n\u001b[0m\u001b[0;32m      9\u001b[0m \u001b[0mscf_trades2\u001b[0m \u001b[1;33m=\u001b[0m \u001b[0mscf_trades2\u001b[0m\u001b[1;33m.\u001b[0m\u001b[0mdrop\u001b[0m\u001b[1;33m(\u001b[0m\u001b[1;33m[\u001b[0m\u001b[1;34m\"Qty\"\u001b[0m\u001b[1;33m,\u001b[0m \u001b[1;34m\"DatetimeStr\"\u001b[0m\u001b[1;33m,\u001b[0m \u001b[1;34m\"Datetime\"\u001b[0m\u001b[1;33m]\u001b[0m\u001b[1;33m,\u001b[0m\u001b[1;36m1\u001b[0m\u001b[1;33m)\u001b[0m\u001b[1;33m\u001b[0m\u001b[0m\n\u001b[0;32m     10\u001b[0m \u001b[0mscf_candles\u001b[0m \u001b[1;33m=\u001b[0m \u001b[0mscf_trades2\u001b[0m\u001b[1;33m.\u001b[0m\u001b[0mresample\u001b[0m\u001b[1;33m(\u001b[0m\u001b[1;34m\"Min\"\u001b[0m\u001b[1;33m,\u001b[0m\u001b[0mhow\u001b[0m\u001b[1;33m=\u001b[0m\u001b[1;34m\"ohlc\"\u001b[0m\u001b[1;33m)\u001b[0m\u001b[1;33m\u001b[0m\u001b[0m\n",
        "\u001b[1;32mC:\\Python279\\lib\\site-packages\\pandas\\core\\frame.pyc\u001b[0m in \u001b[0;36mset_index\u001b[1;34m(self, keys, drop, append, inplace, verify_integrity)\u001b[0m\n\u001b[0;32m   2503\u001b[0m         \u001b[0mindex\u001b[0m\u001b[1;33m.\u001b[0m\u001b[0m_cleanup\u001b[0m\u001b[1;33m(\u001b[0m\u001b[1;33m)\u001b[0m\u001b[1;33m\u001b[0m\u001b[0m\n\u001b[0;32m   2504\u001b[0m \u001b[1;33m\u001b[0m\u001b[0m\n\u001b[1;32m-> 2505\u001b[1;33m         \u001b[0mframe\u001b[0m\u001b[1;33m.\u001b[0m\u001b[0mindex\u001b[0m \u001b[1;33m=\u001b[0m \u001b[0mindex\u001b[0m\u001b[1;33m\u001b[0m\u001b[0m\n\u001b[0m\u001b[0;32m   2506\u001b[0m \u001b[1;33m\u001b[0m\u001b[0m\n\u001b[0;32m   2507\u001b[0m         \u001b[1;32mif\u001b[0m \u001b[1;32mnot\u001b[0m \u001b[0minplace\u001b[0m\u001b[1;33m:\u001b[0m\u001b[1;33m\u001b[0m\u001b[0m\n",
        "\u001b[1;32mC:\\Python279\\lib\\site-packages\\pandas\\core\\generic.pyc\u001b[0m in \u001b[0;36m__setattr__\u001b[1;34m(self, name, value)\u001b[0m\n\u001b[0;32m   1956\u001b[0m         \u001b[1;32mtry\u001b[0m\u001b[1;33m:\u001b[0m\u001b[1;33m\u001b[0m\u001b[0m\n\u001b[0;32m   1957\u001b[0m             \u001b[0mobject\u001b[0m\u001b[1;33m.\u001b[0m\u001b[0m__getattribute__\u001b[0m\u001b[1;33m(\u001b[0m\u001b[0mself\u001b[0m\u001b[1;33m,\u001b[0m \u001b[0mname\u001b[0m\u001b[1;33m)\u001b[0m\u001b[1;33m\u001b[0m\u001b[0m\n\u001b[1;32m-> 1958\u001b[1;33m             \u001b[1;32mreturn\u001b[0m \u001b[0mobject\u001b[0m\u001b[1;33m.\u001b[0m\u001b[0m__setattr__\u001b[0m\u001b[1;33m(\u001b[0m\u001b[0mself\u001b[0m\u001b[1;33m,\u001b[0m \u001b[0mname\u001b[0m\u001b[1;33m,\u001b[0m \u001b[0mvalue\u001b[0m\u001b[1;33m)\u001b[0m\u001b[1;33m\u001b[0m\u001b[0m\n\u001b[0m\u001b[0;32m   1959\u001b[0m         \u001b[1;32mexcept\u001b[0m \u001b[0mAttributeError\u001b[0m\u001b[1;33m:\u001b[0m\u001b[1;33m\u001b[0m\u001b[0m\n\u001b[0;32m   1960\u001b[0m             \u001b[1;32mpass\u001b[0m\u001b[1;33m\u001b[0m\u001b[0m\n",
        "\u001b[1;32mC:\\Python279\\lib\\site-packages\\pandas\\lib.pyd\u001b[0m in \u001b[0;36mpandas.lib.AxisProperty.__set__ (pandas\\lib.c:41397)\u001b[1;34m()\u001b[0m\n",
        "\u001b[1;32mC:\\Python279\\lib\\site-packages\\pandas\\core\\generic.pyc\u001b[0m in \u001b[0;36m_set_axis\u001b[1;34m(self, axis, labels)\u001b[0m\n\u001b[0;32m    404\u001b[0m \u001b[1;33m\u001b[0m\u001b[0m\n\u001b[0;32m    405\u001b[0m     \u001b[1;32mdef\u001b[0m \u001b[0m_set_axis\u001b[0m\u001b[1;33m(\u001b[0m\u001b[0mself\u001b[0m\u001b[1;33m,\u001b[0m \u001b[0maxis\u001b[0m\u001b[1;33m,\u001b[0m \u001b[0mlabels\u001b[0m\u001b[1;33m)\u001b[0m\u001b[1;33m:\u001b[0m\u001b[1;33m\u001b[0m\u001b[0m\n\u001b[1;32m--> 406\u001b[1;33m         \u001b[0mself\u001b[0m\u001b[1;33m.\u001b[0m\u001b[0m_data\u001b[0m\u001b[1;33m.\u001b[0m\u001b[0mset_axis\u001b[0m\u001b[1;33m(\u001b[0m\u001b[0maxis\u001b[0m\u001b[1;33m,\u001b[0m \u001b[0mlabels\u001b[0m\u001b[1;33m)\u001b[0m\u001b[1;33m\u001b[0m\u001b[0m\n\u001b[0m\u001b[0;32m    407\u001b[0m         \u001b[0mself\u001b[0m\u001b[1;33m.\u001b[0m\u001b[0m_clear_item_cache\u001b[0m\u001b[1;33m(\u001b[0m\u001b[1;33m)\u001b[0m\u001b[1;33m\u001b[0m\u001b[0m\n\u001b[0;32m    408\u001b[0m \u001b[1;33m\u001b[0m\u001b[0m\n",
        "\u001b[1;32mC:\\Python279\\lib\\site-packages\\pandas\\core\\internals.pyc\u001b[0m in \u001b[0;36mset_axis\u001b[1;34m(self, axis, new_labels)\u001b[0m\n\u001b[0;32m   2215\u001b[0m         \u001b[1;32mif\u001b[0m \u001b[0mnew_len\u001b[0m \u001b[1;33m!=\u001b[0m \u001b[0mold_len\u001b[0m\u001b[1;33m:\u001b[0m\u001b[1;33m\u001b[0m\u001b[0m\n\u001b[0;32m   2216\u001b[0m             raise ValueError('Length mismatch: Expected axis has %d elements, '\n\u001b[1;32m-> 2217\u001b[1;33m                              'new values have %d elements' % (old_len, new_len))\n\u001b[0m\u001b[0;32m   2218\u001b[0m \u001b[1;33m\u001b[0m\u001b[0m\n\u001b[0;32m   2219\u001b[0m         \u001b[0mself\u001b[0m\u001b[1;33m.\u001b[0m\u001b[0maxes\u001b[0m\u001b[1;33m[\u001b[0m\u001b[0maxis\u001b[0m\u001b[1;33m]\u001b[0m \u001b[1;33m=\u001b[0m \u001b[0mnew_labels\u001b[0m\u001b[1;33m\u001b[0m\u001b[0m\n",
        "\u001b[1;31mValueError\u001b[0m: Length mismatch: Expected axis has 1138533 elements, new values have 1855292 elements"
       ]
      }
     ],
     "prompt_number": 40
    },
    {
     "cell_type": "code",
     "collapsed": false,
     "input": [
      "scf_trades2 = scf_trades.set_index(pd.DatetimeIndex(scf_trades[\"Datetime\"]))\n",
      "scf_trades2 = scf_trades2.drop([\"Qty\", \"DatetimeStr\", \"Datetime\"],1)\n",
      "scf_candles = scf_trades2.resample(\"Min\",how=\"ohlc\")\n",
      "candles = pd.merge(hg_candles, scf_candles, left_index=True, right_index=True)\n",
      "candles.head()"
     ],
     "language": "python",
     "metadata": {},
     "outputs": [
      {
       "html": [
        "<div style=\"max-height:1000px;max-width:1500px;overflow:auto;\">\n",
        "<table border=\"1\" class=\"dataframe\">\n",
        "  <thead>\n",
        "    <tr>\n",
        "      <th></th>\n",
        "      <th colspan=\"4\" halign=\"left\">Price_x</th>\n",
        "      <th colspan=\"4\" halign=\"left\">Price_y</th>\n",
        "    </tr>\n",
        "    <tr>\n",
        "      <th></th>\n",
        "      <th>open</th>\n",
        "      <th>high</th>\n",
        "      <th>low</th>\n",
        "      <th>close</th>\n",
        "      <th>open</th>\n",
        "      <th>high</th>\n",
        "      <th>low</th>\n",
        "      <th>close</th>\n",
        "    </tr>\n",
        "  </thead>\n",
        "  <tbody>\n",
        "    <tr>\n",
        "      <th>2014-02-07 01:00:00</th>\n",
        "      <td> 3.2370</td>\n",
        "      <td> 3.2405</td>\n",
        "      <td> 3.2355</td>\n",
        "      <td> 3.2360</td>\n",
        "      <td> 51020</td>\n",
        "      <td> 51070</td>\n",
        "      <td> 50920</td>\n",
        "      <td> 50920</td>\n",
        "    </tr>\n",
        "    <tr>\n",
        "      <th>2014-02-07 01:01:00</th>\n",
        "      <td> 3.2360</td>\n",
        "      <td> 3.2365</td>\n",
        "      <td> 3.2320</td>\n",
        "      <td> 3.2360</td>\n",
        "      <td> 50920</td>\n",
        "      <td> 51010</td>\n",
        "      <td> 50910</td>\n",
        "      <td> 50960</td>\n",
        "    </tr>\n",
        "    <tr>\n",
        "      <th>2014-02-07 01:02:00</th>\n",
        "      <td> 3.2360</td>\n",
        "      <td> 3.2365</td>\n",
        "      <td> 3.2350</td>\n",
        "      <td> 3.2355</td>\n",
        "      <td> 50950</td>\n",
        "      <td> 50950</td>\n",
        "      <td> 50920</td>\n",
        "      <td> 50930</td>\n",
        "    </tr>\n",
        "    <tr>\n",
        "      <th>2014-02-07 01:03:00</th>\n",
        "      <td> 3.2350</td>\n",
        "      <td> 3.2375</td>\n",
        "      <td> 3.2350</td>\n",
        "      <td> 3.2360</td>\n",
        "      <td> 50930</td>\n",
        "      <td> 50970</td>\n",
        "      <td> 50910</td>\n",
        "      <td> 50940</td>\n",
        "    </tr>\n",
        "    <tr>\n",
        "      <th>2014-02-07 01:04:00</th>\n",
        "      <td> 3.2365</td>\n",
        "      <td> 3.2365</td>\n",
        "      <td> 3.2335</td>\n",
        "      <td> 3.2345</td>\n",
        "      <td> 50950</td>\n",
        "      <td> 50960</td>\n",
        "      <td> 50880</td>\n",
        "      <td> 50900</td>\n",
        "    </tr>\n",
        "  </tbody>\n",
        "</table>\n",
        "</div>"
       ],
       "metadata": {},
       "output_type": "pyout",
       "prompt_number": 41,
       "text": [
        "                    Price_x                         Price_y                \\\n",
        "                       open    high     low   close    open   high    low   \n",
        "2014-02-07 01:00:00  3.2370  3.2405  3.2355  3.2360   51020  51070  50920   \n",
        "2014-02-07 01:01:00  3.2360  3.2365  3.2320  3.2360   50920  51010  50910   \n",
        "2014-02-07 01:02:00  3.2360  3.2365  3.2350  3.2355   50950  50950  50920   \n",
        "2014-02-07 01:03:00  3.2350  3.2375  3.2350  3.2360   50930  50970  50910   \n",
        "2014-02-07 01:04:00  3.2365  3.2365  3.2335  3.2345   50950  50960  50880   \n",
        "\n",
        "                            \n",
        "                     close  \n",
        "2014-02-07 01:00:00  50920  \n",
        "2014-02-07 01:01:00  50960  \n",
        "2014-02-07 01:02:00  50930  \n",
        "2014-02-07 01:03:00  50940  \n",
        "2014-02-07 01:04:00  50900  "
       ]
      }
     ],
     "prompt_number": 41
    },
    {
     "cell_type": "code",
     "collapsed": false,
     "input": [
      "candles.columns"
     ],
     "language": "python",
     "metadata": {},
     "outputs": [
      {
       "metadata": {},
       "output_type": "pyout",
       "prompt_number": 57,
       "text": [
        "MultiIndex(levels=[[u'Price_x', u'Price_y'], [u'close', u'high', u'low', u'open']],\n",
        "           labels=[[0, 0, 0, 0, 1, 1, 1, 1], [3, 1, 2, 0, 3, 1, 2, 0]])"
       ]
      }
     ],
     "prompt_number": 57
    },
    {
     "cell_type": "code",
     "collapsed": false,
     "input": [
      "candles.columns = [\"1\",\"2\",\"3\",\"4\",\"5\",\"6\",\"7\",\"8\"]\n",
      "candles = candles.drop([\"1\",\"2\",\"3\",\"5\",\"6\",\"7\"],1)\n",
      "candles.columns = [\"hg\",\"scf\"]"
     ],
     "language": "python",
     "metadata": {},
     "outputs": [],
     "prompt_number": 69
    },
    {
     "cell_type": "code",
     "collapsed": false,
     "input": [
      "candles.head()"
     ],
     "language": "python",
     "metadata": {},
     "outputs": [
      {
       "html": [
        "<div style=\"max-height:1000px;max-width:1500px;overflow:auto;\">\n",
        "<table border=\"1\" class=\"dataframe\">\n",
        "  <thead>\n",
        "    <tr style=\"text-align: right;\">\n",
        "      <th></th>\n",
        "      <th>hg</th>\n",
        "      <th>scf</th>\n",
        "    </tr>\n",
        "  </thead>\n",
        "  <tbody>\n",
        "    <tr>\n",
        "      <th>2014-02-07 01:00:00</th>\n",
        "      <td> 3.2360</td>\n",
        "      <td> 50920</td>\n",
        "    </tr>\n",
        "    <tr>\n",
        "      <th>2014-02-07 01:01:00</th>\n",
        "      <td> 3.2360</td>\n",
        "      <td> 50960</td>\n",
        "    </tr>\n",
        "    <tr>\n",
        "      <th>2014-02-07 01:02:00</th>\n",
        "      <td> 3.2355</td>\n",
        "      <td> 50930</td>\n",
        "    </tr>\n",
        "    <tr>\n",
        "      <th>2014-02-07 01:03:00</th>\n",
        "      <td> 3.2360</td>\n",
        "      <td> 50940</td>\n",
        "    </tr>\n",
        "    <tr>\n",
        "      <th>2014-02-07 01:04:00</th>\n",
        "      <td> 3.2345</td>\n",
        "      <td> 50900</td>\n",
        "    </tr>\n",
        "  </tbody>\n",
        "</table>\n",
        "</div>"
       ],
       "metadata": {},
       "output_type": "pyout",
       "prompt_number": 70,
       "text": [
        "                         hg    scf\n",
        "2014-02-07 01:00:00  3.2360  50920\n",
        "2014-02-07 01:01:00  3.2360  50960\n",
        "2014-02-07 01:02:00  3.2355  50930\n",
        "2014-02-07 01:03:00  3.2360  50940\n",
        "2014-02-07 01:04:00  3.2345  50900"
       ]
      }
     ],
     "prompt_number": 70
    },
    {
     "cell_type": "code",
     "collapsed": false,
     "input": [
      "hedge_ratio = 2204.62*6.2"
     ],
     "language": "python",
     "metadata": {},
     "outputs": [],
     "prompt_number": 76
    },
    {
     "cell_type": "markdown",
     "metadata": {},
     "source": [
      "Shanghai Copper: 5000 kg/lot, \n",
      "Chicago Copper : 25000 pound/lot,\n",
      "1000kg = 2204.62 pounds\n",
      "USDCNY = 6.15"
     ]
    },
    {
     "cell_type": "code",
     "collapsed": false,
     "input": [
      "candles[\"spread\"]=candles[\"scf\"] - candles[\"hg\"]*hedge_ratio"
     ],
     "language": "python",
     "metadata": {},
     "outputs": [],
     "prompt_number": 79
    },
    {
     "cell_type": "code",
     "collapsed": false,
     "input": [
      "candles.head()"
     ],
     "language": "python",
     "metadata": {},
     "outputs": [
      {
       "html": [
        "<div style=\"max-height:1000px;max-width:1500px;overflow:auto;\">\n",
        "<table border=\"1\" class=\"dataframe\">\n",
        "  <thead>\n",
        "    <tr style=\"text-align: right;\">\n",
        "      <th></th>\n",
        "      <th>hg</th>\n",
        "      <th>scf</th>\n",
        "      <th>hg_ton</th>\n",
        "      <th>spread</th>\n",
        "    </tr>\n",
        "  </thead>\n",
        "  <tbody>\n",
        "    <tr>\n",
        "      <th>2014-02-07 01:00:00</th>\n",
        "      <td> 3.2360</td>\n",
        "      <td> 50920</td>\n",
        "      <td> 43875.024468</td>\n",
        "      <td> 7044.975532</td>\n",
        "    </tr>\n",
        "    <tr>\n",
        "      <th>2014-02-07 01:01:00</th>\n",
        "      <td> 3.2360</td>\n",
        "      <td> 50960</td>\n",
        "      <td> 43875.024468</td>\n",
        "      <td> 7084.975532</td>\n",
        "    </tr>\n",
        "    <tr>\n",
        "      <th>2014-02-07 01:02:00</th>\n",
        "      <td> 3.2355</td>\n",
        "      <td> 50930</td>\n",
        "      <td> 43868.245262</td>\n",
        "      <td> 7061.754738</td>\n",
        "    </tr>\n",
        "    <tr>\n",
        "      <th>2014-02-07 01:03:00</th>\n",
        "      <td> 3.2360</td>\n",
        "      <td> 50940</td>\n",
        "      <td> 43875.024468</td>\n",
        "      <td> 7064.975532</td>\n",
        "    </tr>\n",
        "    <tr>\n",
        "      <th>2014-02-07 01:04:00</th>\n",
        "      <td> 3.2345</td>\n",
        "      <td> 50900</td>\n",
        "      <td> 43854.686849</td>\n",
        "      <td> 7045.313151</td>\n",
        "    </tr>\n",
        "  </tbody>\n",
        "</table>\n",
        "</div>"
       ],
       "metadata": {},
       "output_type": "pyout",
       "prompt_number": 80,
       "text": [
        "                         hg    scf        hg_ton       spread\n",
        "2014-02-07 01:00:00  3.2360  50920  43875.024468  7044.975532\n",
        "2014-02-07 01:01:00  3.2360  50960  43875.024468  7084.975532\n",
        "2014-02-07 01:02:00  3.2355  50930  43868.245262  7061.754738\n",
        "2014-02-07 01:03:00  3.2360  50940  43875.024468  7064.975532\n",
        "2014-02-07 01:04:00  3.2345  50900  43854.686849  7045.313151"
       ]
      }
     ],
     "prompt_number": 80
    },
    {
     "cell_type": "code",
     "collapsed": false,
     "input": [
      "import matplotlib.pyplot as plt\n",
      "%matplotlib inline\n",
      "fig, ax = plt.subplots()\n",
      "ax.plot(candles.index, candles[\"spread\"])\n"
     ],
     "language": "python",
     "metadata": {},
     "outputs": [
      {
       "metadata": {},
       "output_type": "pyout",
       "prompt_number": 84,
       "text": [
        "[<matplotlib.lines.Line2D at 0x2e2b3eb8>]"
       ]
      },
      {
       "metadata": {},
       "output_type": "display_data",
       "png": "[encoded data removed]",
       "text": [
        "<matplotlib.figure.Figure at 0x66bda4e0>"
       ]
      }
     ],
     "prompt_number": 84
    },
    {
     "cell_type": "code",
     "collapsed": false,
     "input": [
      "fig, ax = plt.subplots()\n",
      "ax.plot(candles[\"spread\"][35000:37000])"
     ],
     "language": "python",
     "metadata": {},
     "outputs": [
      {
       "metadata": {},
       "output_type": "pyout",
       "prompt_number": 88,
       "text": [
        "[<matplotlib.lines.Line2D at 0x3803cf28>]"
       ]
      },
      {
       "metadata": {},
       "output_type": "display_data",
       "png": "[encoded data removed]",
       "text": [
        "<matplotlib.figure.Figure at 0x3809acf8>"
       ]
      }
     ],
     "prompt_number": 88
    },
    {
     "cell_type": "markdown",
     "metadata": {},
     "source": [
      "A framework to evaluate signals for outright trading"
     ]
    },
    {
     "cell_type": "code",
     "collapsed": false,
     "input": [
      "df = candles.ix[:,[\"hg\",\"scf\"]]\n",
      "#df.columns = pd.MultiIndex.from_product([[\"MarketData\"],[\"HG_Close\"]])\n",
      "df.columns = pd.MultiIndex.from_tuples([(\"MarketData\",\"HG_Close\"),(\"MarketData\",\"SCF_Close\")])\n",
      "df.head()"
     ],
     "language": "python",
     "metadata": {},
     "outputs": [
      {
       "html": [
        "<div style=\"max-height:1000px;max-width:1500px;overflow:auto;\">\n",
        "<table border=\"1\" class=\"dataframe\">\n",
        "  <thead>\n",
        "    <tr>\n",
        "      <th></th>\n",
        "      <th>MarketData</th>\n",
        "    </tr>\n",
        "    <tr>\n",
        "      <th></th>\n",
        "      <th>HG_Close</th>\n",
        "    </tr>\n",
        "  </thead>\n",
        "  <tbody>\n",
        "    <tr>\n",
        "      <th>2014-02-07 01:00:00</th>\n",
        "      <td> 3.2360</td>\n",
        "    </tr>\n",
        "    <tr>\n",
        "      <th>2014-02-07 01:01:00</th>\n",
        "      <td> 3.2360</td>\n",
        "    </tr>\n",
        "    <tr>\n",
        "      <th>2014-02-07 01:02:00</th>\n",
        "      <td> 3.2355</td>\n",
        "    </tr>\n",
        "    <tr>\n",
        "      <th>2014-02-07 01:03:00</th>\n",
        "      <td> 3.2360</td>\n",
        "    </tr>\n",
        "    <tr>\n",
        "      <th>2014-02-07 01:04:00</th>\n",
        "      <td> 3.2345</td>\n",
        "    </tr>\n",
        "  </tbody>\n",
        "</table>\n",
        "</div>"
       ],
       "metadata": {},
       "output_type": "pyout",
       "prompt_number": 106,
       "text": [
        "                    MarketData\n",
        "                      HG_Close\n",
        "2014-02-07 01:00:00     3.2360\n",
        "2014-02-07 01:01:00     3.2360\n",
        "2014-02-07 01:02:00     3.2355\n",
        "2014-02-07 01:03:00     3.2360\n",
        "2014-02-07 01:04:00     3.2345"
       ]
      }
     ],
     "prompt_number": 106
    },
    {
     "cell_type": "code",
     "collapsed": false,
     "input": [
      "df[(\"Indicators\",\"HG_MA\")] = df[(\"MarketData\",\"HG_Close\")]\n",
      "df.head()"
     ],
     "language": "python",
     "metadata": {},
     "outputs": [
      {
       "html": [
        "<div style=\"max-height:1000px;max-width:1500px;overflow:auto;\">\n",
        "<table border=\"1\" class=\"dataframe\">\n",
        "  <thead>\n",
        "    <tr>\n",
        "      <th></th>\n",
        "      <th>MarketData</th>\n",
        "      <th>Indicators</th>\n",
        "    </tr>\n",
        "    <tr>\n",
        "      <th></th>\n",
        "      <th>HG_Close</th>\n",
        "      <th>HG_MA</th>\n",
        "    </tr>\n",
        "  </thead>\n",
        "  <tbody>\n",
        "    <tr>\n",
        "      <th>2014-02-07 01:00:00</th>\n",
        "      <td> 3.2360</td>\n",
        "      <td> 3.2360</td>\n",
        "    </tr>\n",
        "    <tr>\n",
        "      <th>2014-02-07 01:01:00</th>\n",
        "      <td> 3.2360</td>\n",
        "      <td> 3.2360</td>\n",
        "    </tr>\n",
        "    <tr>\n",
        "      <th>2014-02-07 01:02:00</th>\n",
        "      <td> 3.2355</td>\n",
        "      <td> 3.2355</td>\n",
        "    </tr>\n",
        "    <tr>\n",
        "      <th>2014-02-07 01:03:00</th>\n",
        "      <td> 3.2360</td>\n",
        "      <td> 3.2360</td>\n",
        "    </tr>\n",
        "    <tr>\n",
        "      <th>2014-02-07 01:04:00</th>\n",
        "      <td> 3.2345</td>\n",
        "      <td> 3.2345</td>\n",
        "    </tr>\n",
        "  </tbody>\n",
        "</table>\n",
        "</div>"
       ],
       "metadata": {},
       "output_type": "pyout",
       "prompt_number": 107,
       "text": [
        "                    MarketData Indicators\n",
        "                      HG_Close      HG_MA\n",
        "2014-02-07 01:00:00     3.2360     3.2360\n",
        "2014-02-07 01:01:00     3.2360     3.2360\n",
        "2014-02-07 01:02:00     3.2355     3.2355\n",
        "2014-02-07 01:03:00     3.2360     3.2360\n",
        "2014-02-07 01:04:00     3.2345     3.2345"
       ]
      }
     ],
     "prompt_number": 107
    },
    {
     "cell_type": "code",
     "collapsed": false,
     "input": [
      "cnyusd = pd.read_csv(r\"C:\\Copper\\git\\CNYUSD=R.csv\")\n",
      "cnyusd = cnyusd.set_index(pd.DatetimeIndex(pd.to_datetime(cnyusd[\"Timestamp\"],\"%d/%m/%Y\"))).drop(\"Timestamp\",1).sort_index()\n",
      "cnyusd.head()"
     ],
     "language": "python",
     "metadata": {},
     "outputs": [
      {
       "html": [
        "<div style=\"max-height:1000px;max-width:1500px;overflow:auto;\">\n",
        "<table border=\"1\" class=\"dataframe\">\n",
        "  <thead>\n",
        "    <tr style=\"text-align: right;\">\n",
        "      <th></th>\n",
        "      <th>Mid Price Close</th>\n",
        "    </tr>\n",
        "  </thead>\n",
        "  <tbody>\n",
        "    <tr>\n",
        "      <th>2015-01-16</th>\n",
        "      <td> 0.161079</td>\n",
        "    </tr>\n",
        "    <tr>\n",
        "      <th>2015-01-15</th>\n",
        "      <td> 0.161616</td>\n",
        "    </tr>\n",
        "    <tr>\n",
        "      <th>2015-01-14</th>\n",
        "      <td> 0.161395</td>\n",
        "    </tr>\n",
        "    <tr>\n",
        "      <th>2015-01-13</th>\n",
        "      <td> 0.161355</td>\n",
        "    </tr>\n",
        "    <tr>\n",
        "      <th>2015-01-12</th>\n",
        "      <td> 0.161207</td>\n",
        "    </tr>\n",
        "  </tbody>\n",
        "</table>\n",
        "</div>"
       ],
       "metadata": {},
       "output_type": "pyout",
       "prompt_number": 110,
       "text": [
        "            Mid Price Close\n",
        "2015-01-16         0.161079\n",
        "2015-01-15         0.161616\n",
        "2015-01-14         0.161395\n",
        "2015-01-13         0.161355\n",
        "2015-01-12         0.161207"
       ]
      }
     ],
     "prompt_number": 110
    },
    {
     "cell_type": "code",
     "collapsed": false,
     "input": [
      "df[\"day\"]=df.index.date\n",
      "cnyusd[\"day\"]=cnyusd.index.date\n",
      "df2=pd.merge(df, cnyusd, left_on=\"day\", right_on=\"day\", how=\"left\")\n",
      "df2.head()"
     ],
     "language": "python",
     "metadata": {},
     "outputs": [
      {
       "html": [
        "<div style=\"max-height:1000px;max-width:1500px;overflow:auto;\">\n",
        "<table border=\"1\" class=\"dataframe\">\n",
        "  <thead>\n",
        "    <tr style=\"text-align: right;\">\n",
        "      <th></th>\n",
        "      <th>day</th>\n",
        "      <th>(MarketData, HG_Close)</th>\n",
        "      <th>(Indicators, HG_MA)</th>\n",
        "      <th>(day, )</th>\n",
        "      <th>(date, )</th>\n",
        "      <th>Mid Price Close</th>\n",
        "    </tr>\n",
        "  </thead>\n",
        "  <tbody>\n",
        "    <tr>\n",
        "      <th>0</th>\n",
        "      <td> 2014-02-07</td>\n",
        "      <td> 3.2360</td>\n",
        "      <td> 3.2360</td>\n",
        "      <td> 2014-02-07</td>\n",
        "      <td>2014-02-07 01:00:00</td>\n",
        "      <td> 0.164924</td>\n",
        "    </tr>\n",
        "    <tr>\n",
        "      <th>1</th>\n",
        "      <td> 2014-02-07</td>\n",
        "      <td> 3.2360</td>\n",
        "      <td> 3.2360</td>\n",
        "      <td> 2014-02-07</td>\n",
        "      <td>2014-02-07 01:01:00</td>\n",
        "      <td> 0.164924</td>\n",
        "    </tr>\n",
        "    <tr>\n",
        "      <th>2</th>\n",
        "      <td> 2014-02-07</td>\n",
        "      <td> 3.2355</td>\n",
        "      <td> 3.2355</td>\n",
        "      <td> 2014-02-07</td>\n",
        "      <td>2014-02-07 01:02:00</td>\n",
        "      <td> 0.164924</td>\n",
        "    </tr>\n",
        "    <tr>\n",
        "      <th>3</th>\n",
        "      <td> 2014-02-07</td>\n",
        "      <td> 3.2360</td>\n",
        "      <td> 3.2360</td>\n",
        "      <td> 2014-02-07</td>\n",
        "      <td>2014-02-07 01:03:00</td>\n",
        "      <td> 0.164924</td>\n",
        "    </tr>\n",
        "    <tr>\n",
        "      <th>4</th>\n",
        "      <td> 2014-02-07</td>\n",
        "      <td> 3.2345</td>\n",
        "      <td> 3.2345</td>\n",
        "      <td> 2014-02-07</td>\n",
        "      <td>2014-02-07 01:04:00</td>\n",
        "      <td> 0.164924</td>\n",
        "    </tr>\n",
        "  </tbody>\n",
        "</table>\n",
        "</div>"
       ],
       "metadata": {},
       "output_type": "pyout",
       "prompt_number": 129,
       "text": [
        "          day  (MarketData, HG_Close)  (Indicators, HG_MA)     (day, )  \\\n",
        "0  2014-02-07                  3.2360               3.2360  2014-02-07   \n",
        "1  2014-02-07                  3.2360               3.2360  2014-02-07   \n",
        "2  2014-02-07                  3.2355               3.2355  2014-02-07   \n",
        "3  2014-02-07                  3.2360               3.2360  2014-02-07   \n",
        "4  2014-02-07                  3.2345               3.2345  2014-02-07   \n",
        "\n",
        "             (date, )  Mid Price Close  \n",
        "0 2014-02-07 01:00:00         0.164924  \n",
        "1 2014-02-07 01:01:00         0.164924  \n",
        "2 2014-02-07 01:02:00         0.164924  \n",
        "3 2014-02-07 01:03:00         0.164924  \n",
        "4 2014-02-07 01:04:00         0.164924  "
       ]
      }
     ],
     "prompt_number": 129
    },
    {
     "cell_type": "code",
     "collapsed": false,
     "input": [],
     "language": "python",
     "metadata": {},
     "outputs": []
    }
   ],
   "metadata": {}
  }
 ]
}